{
 "cells": [
  {
   "cell_type": "markdown",
   "metadata": {},
   "source": [
    "**Doubly Linked List Functions/Operations:**\n",
    "\n",
    "1. Insertion at begining\n",
    "2. Insertion in the middle\n",
    "3. Insertion at the end\n",
    "4. Deletion at begining\n",
    "5. Deletion at the end\n",
    "6. Deletion in middle\n",
    "7. Traverse list\n",
    "8. Search\n",
    "9. Reverse Traverse"
   ]
  },
  {
   "cell_type": "code",
   "execution_count": 1,
   "metadata": {},
   "outputs": [],
   "source": [
    "#Doubly Node Creation\n",
    "\n",
    "class doubly_node:\n",
    "    def __init__(self, value):\n",
    "        self.value = value\n",
    "        self.next = None\n",
    "        self.prev = None"
   ]
  },
  {
   "cell_type": "code",
   "execution_count": 2,
   "metadata": {},
   "outputs": [],
   "source": [
    "#Doubly Implementation\n",
    "\n",
    "class doubly_linked_list:\n",
    "    def __init__(self):\n",
    "        self.head = None\n",
    "        self.tail = None\n",
    "    \n",
    "    def traverse(self):\n",
    "        #Time Complexity: O(n)\n",
    "        #Space Complexity: O(1)\n",
    "        \n",
    "        if self.head == None:\n",
    "            return\n",
    "        else:\n",
    "            temp = self.head\n",
    "            while temp:\n",
    "                print(temp.value)\n",
    "                temp = temp.next\n",
    "    \n",
    "    def reverse_list(self):\n",
    "        #Time Complexity: O(n)\n",
    "        #Space Complexity: O(1)\n",
    "        \n",
    "        if self.tail == None:\n",
    "            return \n",
    "        else:\n",
    "            temp = self.tail\n",
    "            while temp:\n",
    "                print(temp.value)\n",
    "                temp = temp.prev\n",
    "    \n",
    "    def insertion_at_begin_with_no_dp(self, value):\n",
    "        #Time Complexity: O(n) because in each insertion, we make sure that no duplicate items are present\n",
    "        #Space Complexty: O(n) because we need to maintain array data structure for finding presence of duplicates\n",
    "        \n",
    "        if self.head == None:\n",
    "            self.head = doubly_node(value)\n",
    "            self.tail = self.head\n",
    "    \n",
    "        else:\n",
    "            if self.circular_find(value) == 1:\n",
    "                return \"NO DUPLICATE ITEMS ALLOWED\"\n",
    "            \n",
    "            else:\n",
    "                temp = doubly_node(value)\n",
    "                temp.next = self.head\n",
    "                self.head.prev = temp\n",
    "                self.head = temp\n",
    "            \n",
    "    def insertion_at_middle_with_no_dp(self, key, value):\n",
    "        #Time Complexity: O(n) because in each insertion, we make sure that no duplicate items are present\n",
    "        #Space Complexty: O(n) because we need to maintain array data structure for finding presence of duplicates\n",
    "        \n",
    "        counter = 1\n",
    "        \n",
    "        if key == counter:\n",
    "            self.insertion_at_begin(value)\n",
    "        \n",
    "        else:\n",
    "            if self.circular_find(value) == 1:\n",
    "                return \"NO DUPLICATE ITEMS ALLOWED\"\n",
    "           \n",
    "            else:\n",
    "                temp = self.head\n",
    "                while counter != key:\n",
    "                    temp = temp.next\n",
    "                    counter+=1\n",
    "\n",
    "                tempr = doubly_node(value)\n",
    "                tempr.next = temp\n",
    "                tempr.prev = temp.prev\n",
    "                temp.prev.next = tempr\n",
    "                temp.prev = tempr\n",
    "            \n",
    "    def insertion_at_end_with_no_dp(self, value):\n",
    "        #Time Complexity: O(n) because in each insertion, we make sure that no duplicate items are present\n",
    "        #Space Complexty: O(n) because we need to maintain array data structure for finding presence of duplicates\n",
    "        \n",
    "        if self.tail == None:\n",
    "            self.head = doubly_node(value)\n",
    "            self.tail = self.head\n",
    "        else:\n",
    "            if self.circular_find(value) == 1:\n",
    "                return \"NO DUPLICATE ITEMS ALLOWED\"\n",
    "            else:\n",
    "                temp = doubly_node(value)\n",
    "                self.tail.next = temp\n",
    "                temp.prev = self.tail\n",
    "                self.tail = temp\n",
    "            \n",
    "    def deletion_at_begin(self):\n",
    "        #Time Complexity: O(1)\n",
    "        #Space Complexity: O(1)\n",
    "        if self.head == None:\n",
    "            return\n",
    "        else:\n",
    "            self.head = self.head.next\n",
    "            self.head.prev = None\n",
    "            \n",
    "    def deletion_at_middle(self, key):\n",
    "        #Time Complexity: O(n)\n",
    "        #Space Complexity: O(1)\n",
    "        \n",
    "        if self.head == None:\n",
    "            return\n",
    "        else:\n",
    "            counter = 1\n",
    "            if counter == key:\n",
    "                self.deletion_at_begin()\n",
    "            else:\n",
    "                temp = self.head\n",
    "                while temp:\n",
    "                    if counter == key:\n",
    "                        break\n",
    "                    \n",
    "                    temp = temp.next\n",
    "                    counter+=1\n",
    "                \n",
    "                temp.prev.next = temp.next\n",
    "                temp.next.prev = temp.prev\n",
    "                \n",
    "    def deletion_at_end(self):\n",
    "        #Time Complexity: O(1)\n",
    "        #Space Complexity: O(1)\n",
    "        \n",
    "        if self.head == None:\n",
    "            return\n",
    "        else:\n",
    "            self.tail.prev.next = self.tail.next\n",
    "            self.tail = self.tail.prev\n",
    "    \n",
    "    def search(self, value):\n",
    "        #Time Complexity: O(n) but optimized with two pointer approach\n",
    "        #Space Complexity: O(1)\n",
    "        \n",
    "        if self.head == None:\n",
    "            return -1\n",
    "        else:\n",
    "            if self.head.value == value:\n",
    "                return True\n",
    "            elif self.tail.value == value:\n",
    "                return True\n",
    "            else:\n",
    "                temp_front = self.head\n",
    "                temp_back = self.tail\n",
    "                \n",
    "                while  temp_front != None and temp_back != None and temp_front.value != temp_back.value:\n",
    "                    if temp_front.value == value or temp_back.value == value:\n",
    "                        return True\n",
    "                    \n",
    "                    temp_front = temp_front.next\n",
    "                    temp_back = temp_back.prev\n",
    "                return -1\n",
    "            \n",
    "            \n",
    "    def circular_find(self,value = None):\n",
    "        #Time Complexity: O(n)\n",
    "        #Space Complexity: O(n)\n",
    "        \n",
    "        visited = []\n",
    "        temp = self.head\n",
    "        while temp:\n",
    "            if temp.value not in visited:\n",
    "                visited.append(temp.value)\n",
    "            else:\n",
    "                return 1\n",
    "            temp = temp.next\n",
    "        \n",
    "        if value in visited:\n",
    "            return 1\n",
    "        \n",
    "        return -1\n",
    "    \n",
    "    def insertion_at_begin_with_dp(self, value):\n",
    "        #Time Complexity: O(1) but duplicates allowed\n",
    "        #Space Complexty: O(1) but duplcates allowed\n",
    "        \n",
    "        if self.head == None:\n",
    "            self.head = doubly_node(value)\n",
    "            self.tail = self.head\n",
    "    \n",
    "        else:\n",
    "            temp = doubly_node(value)\n",
    "            temp.next = self.head\n",
    "            self.head.prev = temp\n",
    "            self.head = temp\n",
    "            \n",
    "    def insertion_at_middle_with_no_dp(self, key, value):\n",
    "        #Time Complexity: O(n) but duplicated allowed\n",
    "        #Space Complexty: O(1)\n",
    "        \n",
    "        counter = 1\n",
    "        \n",
    "        if key == counter:\n",
    "            self.insertion_at_begin(value)\n",
    "        \n",
    "        else:\n",
    "            temp = self.head\n",
    "            while counter != key:\n",
    "                temp = temp.next\n",
    "                counter+=1\n",
    "\n",
    "            tempr = doubly_node(value)\n",
    "            tempr.next = temp\n",
    "            tempr.prev = temp.prev\n",
    "            temp.prev.next = tempr\n",
    "            temp.prev = tempr\n",
    "            \n",
    "    def insertion_at_end_with_no_dp(self, value):\n",
    "        #Time Complexity: O(1) but duplicated allowed\n",
    "        #Space Complexty: O(1)\n",
    "        \n",
    "        if self.tail == None:\n",
    "            self.head = doubly_node(value)\n",
    "            self.tail = self.head\n",
    "        else:\n",
    "            temp = doubly_node(value)\n",
    "            self.tail.next = temp\n",
    "            temp.prev = self.tail\n",
    "            self.tail = temp"
   ]
  },
  {
   "cell_type": "code",
   "execution_count": 5,
   "metadata": {},
   "outputs": [],
   "source": [
    "#Doubly Linked List Object Creation\n",
    "doub_list = doubly_linked_list()"
   ]
  },
  {
   "cell_type": "code",
   "execution_count": 6,
   "metadata": {},
   "outputs": [
    {
     "name": "stdout",
     "output_type": "stream",
     "text": [
      "1\n",
      "9\n",
      "6\n",
      "7\n",
      "8\n",
      "4\n"
     ]
    }
   ],
   "source": [
    "#Insertion in begining of doubly linked list\n",
    "\n",
    "li = [4,8,7,6,9,1,4]\n",
    "\n",
    "for i in li:\n",
    "    doub_list.insertion_at_begin_with_no_dp(i)\n",
    "    \n",
    "doub_list.traverse()"
   ]
  },
  {
   "cell_type": "code",
   "execution_count": 7,
   "metadata": {},
   "outputs": [
    {
     "name": "stdout",
     "output_type": "stream",
     "text": [
      "1\n",
      "2\n",
      "9\n",
      "6\n",
      "7\n",
      "8\n",
      "4\n"
     ]
    }
   ],
   "source": [
    "#Insertion in the middle of doubly linked list\n",
    "\n",
    "doub_list.insertion_at_middle_with_no_dp(2, 2)\n",
    "\n",
    "doub_list.traverse()"
   ]
  },
  {
   "cell_type": "code",
   "execution_count": 8,
   "metadata": {},
   "outputs": [
    {
     "name": "stdout",
     "output_type": "stream",
     "text": [
      "1\n",
      "2\n",
      "9\n",
      "6\n",
      "7\n",
      "8\n",
      "4\n",
      "10\n"
     ]
    }
   ],
   "source": [
    "#Insertion in the end of doubly linked list\n",
    "\n",
    "doub_list.insertion_at_end_with_no_dp(10)\n",
    "\n",
    "doub_list.traverse()"
   ]
  },
  {
   "cell_type": "code",
   "execution_count": 9,
   "metadata": {},
   "outputs": [
    {
     "name": "stdout",
     "output_type": "stream",
     "text": [
      "2\n",
      "9\n",
      "6\n",
      "7\n",
      "8\n",
      "4\n",
      "10\n"
     ]
    }
   ],
   "source": [
    "#Deletion in the begining of doubly linked list\n",
    "\n",
    "doub_list.deletion_at_begin()\n",
    "\n",
    "doub_list.traverse()"
   ]
  },
  {
   "cell_type": "code",
   "execution_count": 11,
   "metadata": {},
   "outputs": [
    {
     "name": "stdout",
     "output_type": "stream",
     "text": [
      "2\n",
      "9\n",
      "6\n",
      "7\n",
      "8\n",
      "10\n"
     ]
    }
   ],
   "source": [
    "#Deletion in the middle of doubly linked list\n",
    "\n",
    "doub_list.deletion_at_middle(6)\n",
    "\n",
    "doub_list.traverse()"
   ]
  },
  {
   "cell_type": "code",
   "execution_count": 12,
   "metadata": {},
   "outputs": [
    {
     "name": "stdout",
     "output_type": "stream",
     "text": [
      "2\n",
      "9\n",
      "6\n",
      "7\n",
      "8\n"
     ]
    }
   ],
   "source": [
    "#Deletion in the end of doubly linked list\n",
    "\n",
    "doub_list.deletion_at_end()\n",
    "\n",
    "doub_list.traverse()"
   ]
  },
  {
   "cell_type": "code",
   "execution_count": 13,
   "metadata": {},
   "outputs": [
    {
     "name": "stdout",
     "output_type": "stream",
     "text": [
      "2\n",
      "9\n",
      "6\n",
      "7\n",
      "8\n"
     ]
    }
   ],
   "source": [
    "#Traversing the doubly linked list\n",
    "\n",
    "doub_list.traverse()"
   ]
  },
  {
   "cell_type": "code",
   "execution_count": 24,
   "metadata": {},
   "outputs": [
    {
     "data": {
      "text/plain": [
       "False"
      ]
     },
     "execution_count": 24,
     "metadata": {},
     "output_type": "execute_result"
    }
   ],
   "source": [
    "#Searching item in doubly linked list\n",
    "\n",
    "True if(doub_list.search(2) == 3) else False"
   ]
  },
  {
   "cell_type": "code",
   "execution_count": 25,
   "metadata": {},
   "outputs": [
    {
     "name": "stdout",
     "output_type": "stream",
     "text": [
      "8\n",
      "7\n",
      "6\n",
      "9\n",
      "2\n"
     ]
    }
   ],
   "source": [
    "#Reverse linked list\n",
    "\n",
    "doub_list.reverse_list()"
   ]
  },
  {
   "cell_type": "code",
   "execution_count": 27,
   "metadata": {},
   "outputs": [
    {
     "data": {
      "text/plain": [
       "False"
      ]
     },
     "execution_count": 27,
     "metadata": {},
     "output_type": "execute_result"
    }
   ],
   "source": [
    "#Find circular present or not\n",
    "\n",
    "True if doub_list.circular_find() == 1 else False"
   ]
  },
  {
   "cell_type": "code",
   "execution_count": null,
   "metadata": {},
   "outputs": [],
   "source": []
  },
  {
   "cell_type": "code",
   "execution_count": null,
   "metadata": {},
   "outputs": [],
   "source": []
  },
  {
   "cell_type": "code",
   "execution_count": null,
   "metadata": {},
   "outputs": [],
   "source": []
  }
 ],
 "metadata": {
  "kernelspec": {
   "display_name": "Python 3",
   "language": "python",
   "name": "python3"
  },
  "language_info": {
   "codemirror_mode": {
    "name": "ipython",
    "version": 3
   },
   "file_extension": ".py",
   "mimetype": "text/x-python",
   "name": "python",
   "nbconvert_exporter": "python",
   "pygments_lexer": "ipython3",
   "version": "3.7.5"
  }
 },
 "nbformat": 4,
 "nbformat_minor": 4
}
