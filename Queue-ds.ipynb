{
 "cells": [
  {
   "cell_type": "markdown",
   "metadata": {},
   "source": [
    "### Queue\n",
    "\n",
    "**Queue Operations/Functions:**\n",
    "- enqueue\n",
    "- dequeue\n",
    "- peek\n",
    "- isEmpty"
   ]
  },
  {
   "cell_type": "code",
   "execution_count": 1,
   "metadata": {},
   "outputs": [],
   "source": [
    "#Queue creation using dynamic array\n",
    "\n",
    "class Queue:\n",
    "    def __init__(self):\n",
    "        self.queue = []\n",
    "        \n",
    "    #Time complexity: O(1) | Space Complexity: O(n)\n",
    "    def enqueue(self, value):\n",
    "        self.queue.append(value)\n",
    "        \n",
    "    #Time Complexity: O(n) due to shifting items | Space Complexity: O(n)    \n",
    "    def dequeue(self):\n",
    "        if self.isEmpty() == True:\n",
    "            return -1\n",
    "        else:\n",
    "            value = self.queue[0]\n",
    "            self.queue.pop(0)\n",
    "            return value\n",
    "    \n",
    "    #Time Complexity: O(1) | Space Complexity: O(1)\n",
    "    def isEmpty(self):\n",
    "        return True if (len(self.queue) == 0) else False\n",
    "    \n",
    "    #Time Complexity: O(1) | Space Complexity: O(1)\n",
    "    def peek(self):\n",
    "        if self.isEmpty() == True:\n",
    "            return -1\n",
    "        else:\n",
    "            return self.queue[0]"
   ]
  },
  {
   "cell_type": "code",
   "execution_count": 2,
   "metadata": {},
   "outputs": [],
   "source": [
    "#Queue object:\n",
    "\n",
    "queue_array = Queue()"
   ]
  },
  {
   "cell_type": "code",
   "execution_count": 3,
   "metadata": {},
   "outputs": [],
   "source": [
    "#Adding item in Queue, follow FIFO\n",
    "\n",
    "queue_array.enqueue(10)\n",
    "queue_array.enqueue(11)\n",
    "queue_array.enqueue(12)\n",
    "queue_array.enqueue(13)\n",
    "queue_array.enqueue(14)"
   ]
  },
  {
   "cell_type": "code",
   "execution_count": 4,
   "metadata": {},
   "outputs": [
    {
     "data": {
      "text/plain": [
       "[10, 11, 12, 13, 14]"
      ]
     },
     "execution_count": 4,
     "metadata": {},
     "output_type": "execute_result"
    }
   ],
   "source": [
    "#Queue elements\n",
    "\n",
    "queue_array.queue"
   ]
  },
  {
   "cell_type": "code",
   "execution_count": 5,
   "metadata": {},
   "outputs": [
    {
     "data": {
      "text/plain": [
       "10"
      ]
     },
     "execution_count": 5,
     "metadata": {},
     "output_type": "execute_result"
    }
   ],
   "source": [
    "#Return Front Element in Queue, not removing\n",
    "\n",
    "queue_array.peek()"
   ]
  },
  {
   "cell_type": "code",
   "execution_count": 6,
   "metadata": {},
   "outputs": [
    {
     "data": {
      "text/plain": [
       "False"
      ]
     },
     "execution_count": 6,
     "metadata": {},
     "output_type": "execute_result"
    }
   ],
   "source": [
    "#To check queue is empty or not\n",
    "#return True if empty otherwise false\n",
    "\n",
    "queue_array.isEmpty()"
   ]
  },
  {
   "cell_type": "code",
   "execution_count": 7,
   "metadata": {},
   "outputs": [
    {
     "data": {
      "text/plain": [
       "10"
      ]
     },
     "execution_count": 7,
     "metadata": {},
     "output_type": "execute_result"
    }
   ],
   "source": [
    "#Removing front element from the queue\n",
    "\n",
    "queue_array.dequeue()"
   ]
  },
  {
   "cell_type": "code",
   "execution_count": 8,
   "metadata": {},
   "outputs": [
    {
     "data": {
      "text/plain": [
       "[11, 12, 13, 14]"
      ]
     },
     "execution_count": 8,
     "metadata": {},
     "output_type": "execute_result"
    }
   ],
   "source": [
    "#Present element in queue\n",
    "\n",
    "queue_array.queue"
   ]
  },
  {
   "cell_type": "code",
   "execution_count": 9,
   "metadata": {},
   "outputs": [],
   "source": [
    "#Queue creation using linked list\n",
    "\n",
    "class queue_node:\n",
    "    def __init__(self, value):\n",
    "        self.value = value\n",
    "        self.next = None\n",
    "        \n",
    "class queue_linked_list:\n",
    "    def __init__(self):\n",
    "        self.front = None\n",
    "        self.back = None\n",
    "    \n",
    "    #Time Complexity: O(1) | Space Complexity: O(1)\n",
    "    def isEmpty(self):\n",
    "        return True if(self.front == None) else False\n",
    "    \n",
    "    #Time Complexity: O(1) | #Space Complexity: O(1)\n",
    "    def enqueue(self, value):\n",
    "        if self.isEmpty() == True:\n",
    "            self.front = queue_node(value)\n",
    "            self.front.next = self.back\n",
    "            self.back = self.front\n",
    "            \n",
    "        else:\n",
    "            temp_node = queue_node(value)\n",
    "            self.back.next = temp_node\n",
    "            self.back = temp_node\n",
    "            \n",
    "    #Time Complexity: O(1) | Space Complexity: O(1)\n",
    "    def peek(self):\n",
    "        if self.isEmpty() == True:\n",
    "            return -1\n",
    "        else:\n",
    "            return self.front.value\n",
    "    \n",
    "    #Time Complexity: O(1) | Space Complexity: O(1)\n",
    "    def dequeue(self):\n",
    "        if self.isEmpty() == True:\n",
    "            return -1\n",
    "        else:\n",
    "            value = self.front.value\n",
    "            self.front = self.front.next\n",
    "            return value"
   ]
  },
  {
   "cell_type": "code",
   "execution_count": 10,
   "metadata": {},
   "outputs": [],
   "source": [
    "#Queue Creation\n",
    "queue_linked = queue_linked_list()"
   ]
  },
  {
   "cell_type": "code",
   "execution_count": 11,
   "metadata": {},
   "outputs": [],
   "source": [
    "#Adding item in queue, follows FIFO\n",
    "\n",
    "queue_linked.enqueue(1)\n",
    "queue_linked.enqueue(2)\n",
    "queue_linked.enqueue(3)\n",
    "queue_linked.enqueue(4)\n",
    "queue_linked.enqueue(5)"
   ]
  },
  {
   "cell_type": "code",
   "execution_count": 12,
   "metadata": {},
   "outputs": [
    {
     "data": {
      "text/plain": [
       "1"
      ]
     },
     "execution_count": 12,
     "metadata": {},
     "output_type": "execute_result"
    }
   ],
   "source": [
    "#Queue item remove\n",
    "\n",
    "queue_linked.dequeue()"
   ]
  },
  {
   "cell_type": "code",
   "execution_count": 13,
   "metadata": {},
   "outputs": [
    {
     "data": {
      "text/plain": [
       "False"
      ]
     },
     "execution_count": 13,
     "metadata": {},
     "output_type": "execute_result"
    }
   ],
   "source": [
    "#Check queue is empty or not\n",
    "\n",
    "queue_linked.isEmpty()"
   ]
  },
  {
   "cell_type": "code",
   "execution_count": 14,
   "metadata": {},
   "outputs": [
    {
     "data": {
      "text/plain": [
       "2"
      ]
     },
     "execution_count": 14,
     "metadata": {},
     "output_type": "execute_result"
    }
   ],
   "source": [
    "#Queue Peek\n",
    "\n",
    "queue_linked.peek()"
   ]
  },
  {
   "cell_type": "code",
   "execution_count": null,
   "metadata": {},
   "outputs": [],
   "source": []
  },
  {
   "cell_type": "code",
   "execution_count": null,
   "metadata": {},
   "outputs": [],
   "source": []
  },
  {
   "cell_type": "code",
   "execution_count": null,
   "metadata": {},
   "outputs": [],
   "source": []
  }
 ],
 "metadata": {
  "kernelspec": {
   "display_name": "Python 3",
   "language": "python",
   "name": "python3"
  },
  "language_info": {
   "codemirror_mode": {
    "name": "ipython",
    "version": 3
   },
   "file_extension": ".py",
   "mimetype": "text/x-python",
   "name": "python",
   "nbconvert_exporter": "python",
   "pygments_lexer": "ipython3",
   "version": "3.7.5"
  }
 },
 "nbformat": 4,
 "nbformat_minor": 4
}
