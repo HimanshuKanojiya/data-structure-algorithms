{
 "cells": [
  {
   "cell_type": "markdown",
   "metadata": {},
   "source": [
    "### Stack\n",
    "\n",
    "**Stack Operations/functions:**\n",
    "- Push\n",
    "- Pop\n",
    "- Peek\n",
    "- isEmpty\n"
   ]
  },
  {
   "cell_type": "code",
   "execution_count": 1,
   "metadata": {},
   "outputs": [],
   "source": [
    "#Implementing stack using dynamic array\n",
    "\n",
    "class stack:\n",
    "    def __init__(self):\n",
    "        self.array = []\n",
    "        \n",
    "    #Time Complexity: O(1) | Space Complexity: O(n)    \n",
    "    def push(self, value):\n",
    "        self.array.append(value)\n",
    "        return 1\n",
    "    \n",
    "    #Time Complexity: O(1) | Space Complexity: O(n)\n",
    "    def pop(self):\n",
    "        if self.isEmpty == True:\n",
    "            return -1\n",
    "        else:\n",
    "            return self.array.pop()\n",
    "        \n",
    "    #Time Complexity: O(1) | Space Complexity: O(1) \n",
    "    def isEmpty(self):\n",
    "        return True if (len(self.array) == 0) else False\n",
    "    \n",
    "    #TIme Complexity: O(1) | Space Complexity: O(1)\n",
    "    def Peek(self):\n",
    "        return -1 if(self.isEmpty() == True) else self.array[-1]"
   ]
  },
  {
   "cell_type": "code",
   "execution_count": 2,
   "metadata": {},
   "outputs": [],
   "source": [
    "array_stack = stack()"
   ]
  },
  {
   "cell_type": "code",
   "execution_count": 3,
   "metadata": {},
   "outputs": [
    {
     "data": {
      "text/plain": [
       "1"
      ]
     },
     "execution_count": 3,
     "metadata": {},
     "output_type": "execute_result"
    }
   ],
   "source": [
    "#return 1 if successfully added\n",
    "\n",
    "array_stack.push(1)"
   ]
  },
  {
   "cell_type": "code",
   "execution_count": 4,
   "metadata": {},
   "outputs": [
    {
     "data": {
      "text/plain": [
       "1"
      ]
     },
     "execution_count": 4,
     "metadata": {},
     "output_type": "execute_result"
    }
   ],
   "source": [
    "#return 1 if element removed successfully other return -1\n",
    "\n",
    "array_stack.pop()"
   ]
  },
  {
   "cell_type": "code",
   "execution_count": 5,
   "metadata": {},
   "outputs": [
    {
     "data": {
      "text/plain": [
       "True"
      ]
     },
     "execution_count": 5,
     "metadata": {},
     "output_type": "execute_result"
    }
   ],
   "source": [
    "#return True if it's empty\n",
    "\n",
    "array_stack.isEmpty()"
   ]
  },
  {
   "cell_type": "code",
   "execution_count": 6,
   "metadata": {},
   "outputs": [
    {
     "data": {
      "text/plain": [
       "-1"
      ]
     },
     "execution_count": 6,
     "metadata": {},
     "output_type": "execute_result"
    }
   ],
   "source": [
    "#return -1 if stack is empty otherwise return the element\n",
    "\n",
    "array_stack.Peek()"
   ]
  },
  {
   "cell_type": "code",
   "execution_count": 8,
   "metadata": {},
   "outputs": [],
   "source": [
    "#Implementing Stack using singly linked list\n",
    "\n",
    "class stack_node:\n",
    "    def __init__(self, value):\n",
    "        self.value = value\n",
    "        self.next = None\n",
    "\n",
    "class stack_link_list:\n",
    "    def __init__(self):\n",
    "        self.front = None\n",
    "        \n",
    "    #Time Complexity: O(1) | Space Complexity: O(1)    \n",
    "    def Push(self, value):\n",
    "        if self.front == None:\n",
    "            self.front = stack_node(value)\n",
    "            \n",
    "        else:\n",
    "            temp_node = stack_node(value)\n",
    "            temp_node.next = self.front\n",
    "            self.front = temp_node\n",
    "    \n",
    "    #Time Complexity: O(1) | Space Complexity: O(1)\n",
    "    def Pop(self):\n",
    "        if self.isEmpty() == True:\n",
    "            return -1\n",
    "        else:\n",
    "            value = self.front.value\n",
    "            self.front = self.front.next\n",
    "            return value\n",
    "      \n",
    "    #Time Complexity: O(1) | Space Complexity: O(1)\n",
    "    def peek(self):\n",
    "        if self.isEmpty() == True:\n",
    "            return -1\n",
    "        else:\n",
    "            return self.front.value\n",
    "     \n",
    "    #Time Complexity: O(1) | Space Complexity: O(1)\n",
    "    def isEmpty(self):\n",
    "        return True if(self.front == None) else False"
   ]
  },
  {
   "cell_type": "code",
   "execution_count": 9,
   "metadata": {},
   "outputs": [],
   "source": [
    "#Stack Creation\n",
    "\n",
    "stack = stack_link_list()"
   ]
  },
  {
   "cell_type": "code",
   "execution_count": 10,
   "metadata": {},
   "outputs": [],
   "source": [
    "#Adding item in stack\n",
    "\n",
    "stack.Push(1)\n",
    "stack.Push(2)\n",
    "stack.Push(3)\n",
    "stack.Push(4)"
   ]
  },
  {
   "cell_type": "code",
   "execution_count": 11,
   "metadata": {},
   "outputs": [
    {
     "data": {
      "text/plain": [
       "4"
      ]
     },
     "execution_count": 11,
     "metadata": {},
     "output_type": "execute_result"
    }
   ],
   "source": [
    "#Removing item from stack\n",
    "\n",
    "stack.Pop()"
   ]
  },
  {
   "cell_type": "code",
   "execution_count": 12,
   "metadata": {},
   "outputs": [
    {
     "data": {
      "text/plain": [
       "3"
      ]
     },
     "execution_count": 12,
     "metadata": {},
     "output_type": "execute_result"
    }
   ],
   "source": [
    "#See Peek item in stack\n",
    "\n",
    "stack.peek()"
   ]
  },
  {
   "cell_type": "code",
   "execution_count": 13,
   "metadata": {},
   "outputs": [
    {
     "data": {
      "text/plain": [
       "False"
      ]
     },
     "execution_count": 13,
     "metadata": {},
     "output_type": "execute_result"
    }
   ],
   "source": [
    "#Check stack is Empty or not\n",
    "#return True if yes otherwise return False\n",
    "\n",
    "stack.isEmpty()"
   ]
  },
  {
   "cell_type": "code",
   "execution_count": null,
   "metadata": {},
   "outputs": [],
   "source": []
  }
 ],
 "metadata": {
  "kernelspec": {
   "display_name": "Python 3",
   "language": "python",
   "name": "python3"
  },
  "language_info": {
   "codemirror_mode": {
    "name": "ipython",
    "version": 3
   },
   "file_extension": ".py",
   "mimetype": "text/x-python",
   "name": "python",
   "nbconvert_exporter": "python",
   "pygments_lexer": "ipython3",
   "version": "3.7.5"
  }
 },
 "nbformat": 4,
 "nbformat_minor": 4
}
