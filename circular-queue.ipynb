{
 "cells": [
  {
   "cell_type": "markdown",
   "metadata": {},
   "source": [
    "### Circular Queue\n",
    "\n",
    "**Queue Operations/Functions:**\n",
    "- enqueue\n",
    "- dequeue\n",
    "- peek\n",
    "- isEmpty"
   ]
  },
  {
   "cell_type": "code",
   "execution_count": 1,
   "metadata": {},
   "outputs": [],
   "source": [
    "# Circular queue implementation using doubly linked list\n",
    "\n",
    "class Queue_Node:\n",
    "    def __init__(self, data):\n",
    "        self.value = data\n",
    "        self.next = None\n",
    "        self.prev = None\n",
    "        \n",
    "class CircularQueue:\n",
    "    def __init__(self):\n",
    "        self.head = None\n",
    "        self.tail = None\n",
    "        \n",
    "    #Time Complexity: O(1) | Space Complexity: O(1)\n",
    "    def equeue(self, data):\n",
    "        if self.head == None:\n",
    "            self.head = Queue_Node(data)\n",
    "            self.tail = self.head\n",
    "            self.tail.next = self.head\n",
    "        else:\n",
    "            temp = Queue_Node(data)\n",
    "            temp.prev = self.tail\n",
    "            self.tail.next = temp\n",
    "            self.tail = temp\n",
    "            temp.next = self.head\n",
    "   \n",
    "    #Time Complexity: O(n) | Space Complexity: O(1)\n",
    "    def traverse(self):\n",
    "        if self.head == None:\n",
    "            return\n",
    "        else:\n",
    "            temp = self.head\n",
    "            while temp:\n",
    "                print(temp.value)\n",
    "                if temp.next == self.head:\n",
    "                    break\n",
    "                temp = temp.next\n",
    "    \n",
    "    \n",
    "    #Time Complexity: O(1) | Space Complexity: O(1)\n",
    "    def dequeue(self):\n",
    "        if self.head == None:\n",
    "            return\n",
    "        else:\n",
    "            if self.head == self.tail:\n",
    "                value = self.head.value\n",
    "                self.head = None\n",
    "                self.tail = None\n",
    "                return value\n",
    "            \n",
    "            value = self.head.value\n",
    "            self.head = self.head.next\n",
    "            self.tail.next = self.head\n",
    "            return value\n",
    "    \n",
    "    \n",
    "    #Time Complexity: O(1) | Space Complexity: O(1)\n",
    "    def peek(self):\n",
    "        return -1 if(self.head == None) else self.head.value\n",
    "\n",
    "    \n",
    "    #Time Complexity: O(1) | Space Complexity: O(1)\n",
    "    def isEmpty(self):\n",
    "        return True if(self.head == None) else False"
   ]
  },
  {
   "cell_type": "code",
   "execution_count": 2,
   "metadata": {},
   "outputs": [],
   "source": [
    "#Creation of instance/Object of Circular Queue\n",
    "\n",
    "circ_queue = CircularQueue()"
   ]
  },
  {
   "cell_type": "code",
   "execution_count": 3,
   "metadata": {},
   "outputs": [],
   "source": [
    "#Enqueue Operation\n",
    "\n",
    "circ_queue.equeue(1)\n",
    "circ_queue.equeue(2)\n",
    "circ_queue.equeue(3)\n",
    "circ_queue.equeue(4)"
   ]
  },
  {
   "cell_type": "code",
   "execution_count": 4,
   "metadata": {},
   "outputs": [
    {
     "name": "stdout",
     "output_type": "stream",
     "text": [
      "1\n",
      "2\n",
      "3\n",
      "4\n"
     ]
    }
   ],
   "source": [
    "#Traverse of Circular Queue\n",
    "\n",
    "circ_queue.traverse()"
   ]
  },
  {
   "cell_type": "code",
   "execution_count": 5,
   "metadata": {},
   "outputs": [
    {
     "data": {
      "text/plain": [
       "1"
      ]
     },
     "execution_count": 5,
     "metadata": {},
     "output_type": "execute_result"
    }
   ],
   "source": [
    "#Deque operation in Circular Queue\n",
    "\n",
    "circ_queue.dequeue()"
   ]
  },
  {
   "cell_type": "code",
   "execution_count": 6,
   "metadata": {},
   "outputs": [
    {
     "name": "stdout",
     "output_type": "stream",
     "text": [
      "2\n",
      "3\n",
      "4\n"
     ]
    }
   ],
   "source": [
    "#Traverse to check elements\n",
    "\n",
    "circ_queue.traverse()"
   ]
  },
  {
   "cell_type": "code",
   "execution_count": 7,
   "metadata": {},
   "outputs": [
    {
     "data": {
      "text/plain": [
       "2"
      ]
     },
     "execution_count": 7,
     "metadata": {},
     "output_type": "execute_result"
    }
   ],
   "source": [
    "#To see peek element, not remove\n",
    "\n",
    "circ_queue.peek()"
   ]
  },
  {
   "cell_type": "code",
   "execution_count": 8,
   "metadata": {},
   "outputs": [
    {
     "data": {
      "text/plain": [
       "False"
      ]
     },
     "execution_count": 8,
     "metadata": {},
     "output_type": "execute_result"
    }
   ],
   "source": [
    "#To validate queue is empty or not\n",
    "\n",
    "circ_queue.isEmpty()"
   ]
  },
  {
   "cell_type": "code",
   "execution_count": null,
   "metadata": {},
   "outputs": [],
   "source": []
  },
  {
   "cell_type": "code",
   "execution_count": null,
   "metadata": {},
   "outputs": [],
   "source": []
  },
  {
   "cell_type": "code",
   "execution_count": null,
   "metadata": {},
   "outputs": [],
   "source": []
  }
 ],
 "metadata": {
  "kernelspec": {
   "display_name": "Python 3",
   "language": "python",
   "name": "python3"
  },
  "language_info": {
   "codemirror_mode": {
    "name": "ipython",
    "version": 3
   },
   "file_extension": ".py",
   "mimetype": "text/x-python",
   "name": "python",
   "nbconvert_exporter": "python",
   "pygments_lexer": "ipython3",
   "version": "3.7.5"
  }
 },
 "nbformat": 4,
 "nbformat_minor": 4
}
