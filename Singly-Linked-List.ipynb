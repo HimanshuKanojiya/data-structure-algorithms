{
 "cells": [
  {
   "cell_type": "markdown",
   "metadata": {},
   "source": [
    "## Singly Linked List"
   ]
  },
  {
   "cell_type": "markdown",
   "metadata": {},
   "source": [
    "**Singly Linked List Functions/Operations:**\n",
    "\n",
    "1. Insertion at begining\n",
    "2. Insertion in the middle\n",
    "3. Insertion at the end\n",
    "4. Deletion at begining\n",
    "5. Deletion at the end\n",
    "6. Deletion in middle\n",
    "7. Traverse list\n",
    "8. Search"
   ]
  },
  {
   "cell_type": "code",
   "execution_count": 1,
   "metadata": {},
   "outputs": [],
   "source": [
    "#Node Creation\n",
    "\n",
    "class singly_node:\n",
    "    def __init__(self, data):\n",
    "        self.value = data\n",
    "        self.next = None"
   ]
  },
  {
   "cell_type": "code",
   "execution_count": 2,
   "metadata": {},
   "outputs": [],
   "source": [
    "# Singly Linked List Implementation\n",
    "\n",
    "class singly_linked_list:\n",
    "    def __init__(self):\n",
    "        self.head = None\n",
    "        self.tail = None\n",
    "        self.list_lim = 0\n",
    "        \n",
    "    def traverse(self):\n",
    "        #Time Complexity: O(n)\n",
    "        #Space Complexity: O(1)\n",
    "        \n",
    "        if self.head == None:\n",
    "            return\n",
    "        else:\n",
    "            temp = self.head\n",
    "            while temp:\n",
    "                print(temp.value)\n",
    "                temp = temp.next\n",
    "                \n",
    "            \n",
    "    def insertion_at_begin(self, value):\n",
    "        #Time Complexity: O(1)\n",
    "        #Space Complexity: O(1)\n",
    "        \n",
    "        if self.head == None:\n",
    "            self.head = singly_node(value)\n",
    "            self.tail = self.head\n",
    "            self.list_lim+=1\n",
    "        else:\n",
    "            temp = singly_node(value)\n",
    "            temp.next = self.head\n",
    "            self.head = temp\n",
    "            self.list_lim+=1\n",
    "            \n",
    "    def insertion_at_end(self, value):\n",
    "        #Time Complexity: O(1) due to maintaining the tail in linked list\n",
    "        #Space Complexity: O(1)\n",
    "        \n",
    "        if self.head == None:\n",
    "            self.insertion_at_begin(value)\n",
    "        else:\n",
    "            temp = singly_node(value)\n",
    "            self.tail.next = temp\n",
    "            self.tail = temp\n",
    "            self.list_lim+=1\n",
    "            \n",
    "    def insertion_at_middle(self, key, value):\n",
    "        #Time Complexity: O(n) because we need to find the element\n",
    "        #Space Complexity: O(1)\n",
    "        \n",
    "        counter = 1\n",
    "        temp = self.head\n",
    "        while counter != key - 1:\n",
    "            if key == 1:\n",
    "                self.insertion_at_begin(value)\n",
    "                return\n",
    "            else:\n",
    "                temp = temp.next\n",
    "                counter+=1\n",
    "        \n",
    "        temp_node = singly_node(value)\n",
    "        next_node = temp.next\n",
    "        temp_node.next = next_node\n",
    "        temp.next = temp_node\n",
    "        \n",
    "    def deletion_at_begin(self):\n",
    "        #Time Complexity: O(1)\n",
    "        #Space Complexity: O(1)\n",
    "        \n",
    "        if self.head == None:\n",
    "            return\n",
    "        else:\n",
    "            self.head = self.head.next\n",
    "            \n",
    "    def deletion_at_end(self):\n",
    "        #Time Complexity: O(1)\n",
    "        #Space Complexity: O(1)\n",
    "        \n",
    "        if self.head == None:\n",
    "            return\n",
    "        else:\n",
    "            temp = self.head\n",
    "            temp_next = temp.next\n",
    "            while temp_next.next:\n",
    "                temp = temp.next\n",
    "                temp_next = temp_next.next\n",
    "            \n",
    "            temp.next = None\n",
    "            self.tail = temp\n",
    "            \n",
    "    def deletion_at_middle(self, key):\n",
    "        #Time Complexity: O(n) | Best Case: Constant\n",
    "        #Space Complexity: O(1)\n",
    "        \n",
    "        if self.head == None:\n",
    "            return\n",
    "        \n",
    "        else:\n",
    "            \n",
    "            if key == 1:\n",
    "                return self.deletion_at_begin()\n",
    "            \n",
    "            elif key == self.list_lim:\n",
    "                return self.deletion_at_end()\n",
    "            \n",
    "            else:\n",
    "                temp = self.head\n",
    "                temp_next = self.head.next\n",
    "                counter = 1\n",
    "                while temp:\n",
    "                    if counter == key - 1:\n",
    "                        break\n",
    "                    else:\n",
    "                        temp = temp.next\n",
    "                        temp_next = temp_next.next\n",
    "                        counter+=1\n",
    "                \n",
    "                temp.next = temp_next.next\n",
    "                    \n",
    "                \n",
    "    def search(self, value):\n",
    "        #Time Complexity: O(n)\n",
    "        #Space Complexity: O(1)\n",
    "        if self.head == None:\n",
    "            return\n",
    "        \n",
    "        else:\n",
    "            if self.head == value:\n",
    "                return \"FOUND THE ELEMENT\"\n",
    "            elif self.tail == value:\n",
    "                return \"FOUND THE ELEMENT\"\n",
    "            else:\n",
    "                temp = self.head\n",
    "                while temp:\n",
    "                    if temp.value == value:\n",
    "                        return \"FOUND THE ELEMENT\"\n",
    "                    temp = temp.next\n",
    "                return -1"
   ]
  },
  {
   "cell_type": "code",
   "execution_count": 3,
   "metadata": {},
   "outputs": [],
   "source": [
    "#Create linked List Object\n",
    "\n",
    "singly_list = singly_linked_list()"
   ]
  },
  {
   "cell_type": "code",
   "execution_count": 4,
   "metadata": {},
   "outputs": [
    {
     "name": "stdout",
     "output_type": "stream",
     "text": [
      "5\n",
      "4\n",
      "3\n",
      "2\n",
      "1\n"
     ]
    }
   ],
   "source": [
    "#Insertion at begining in Linked List with traverse\n",
    "\n",
    "items = [1,2,3,4,5]\n",
    "\n",
    "for i in items:\n",
    "    singly_list.insertion_at_begin(i)\n",
    "\n",
    "#traverse\n",
    "singly_list.traverse()"
   ]
  },
  {
   "cell_type": "code",
   "execution_count": 5,
   "metadata": {},
   "outputs": [
    {
     "name": "stdout",
     "output_type": "stream",
     "text": [
      "5\n",
      "500\n",
      "4\n",
      "3\n",
      "2\n",
      "1\n"
     ]
    }
   ],
   "source": [
    "#Insertion at middle with traverse\n",
    "\n",
    "singly_list.insertion_at_middle(2, 500)\n",
    "\n",
    "#traverse\n",
    "singly_list.traverse()"
   ]
  },
  {
   "cell_type": "code",
   "execution_count": 6,
   "metadata": {},
   "outputs": [
    {
     "name": "stdout",
     "output_type": "stream",
     "text": [
      "5\n",
      "500\n",
      "4\n",
      "3\n",
      "2\n",
      "1\n",
      "100\n"
     ]
    }
   ],
   "source": [
    "#Insertion at end with traverse\n",
    "\n",
    "singly_list.insertion_at_end(100)\n",
    "\n",
    "#traverse\n",
    "singly_list.traverse()"
   ]
  },
  {
   "cell_type": "code",
   "execution_count": 7,
   "metadata": {},
   "outputs": [
    {
     "name": "stdout",
     "output_type": "stream",
     "text": [
      "500\n",
      "4\n",
      "3\n",
      "2\n",
      "1\n",
      "100\n"
     ]
    }
   ],
   "source": [
    "#Deletion at begining with traverse\n",
    "\n",
    "singly_list.deletion_at_begin()\n",
    "\n",
    "#traverse\n",
    "singly_list.traverse()"
   ]
  },
  {
   "cell_type": "code",
   "execution_count": 8,
   "metadata": {},
   "outputs": [
    {
     "name": "stdout",
     "output_type": "stream",
     "text": [
      "500\n",
      "3\n",
      "2\n",
      "1\n",
      "100\n"
     ]
    }
   ],
   "source": [
    "#Deletion at middle with traverse\n",
    "\n",
    "singly_list.deletion_at_middle(2)\n",
    "\n",
    "#traverse\n",
    "singly_list.traverse()"
   ]
  },
  {
   "cell_type": "code",
   "execution_count": 9,
   "metadata": {},
   "outputs": [
    {
     "name": "stdout",
     "output_type": "stream",
     "text": [
      "500\n",
      "3\n",
      "2\n",
      "1\n"
     ]
    }
   ],
   "source": [
    "#Deletion at end with traverse\n",
    "\n",
    "singly_list.deletion_at_end()\n",
    "\n",
    "#Traverse\n",
    "singly_list.traverse()"
   ]
  },
  {
   "cell_type": "code",
   "execution_count": 10,
   "metadata": {},
   "outputs": [
    {
     "data": {
      "text/plain": [
       "'FOUND THE ELEMENT'"
      ]
     },
     "execution_count": 10,
     "metadata": {},
     "output_type": "execute_result"
    }
   ],
   "source": [
    "#Search in linked List\n",
    "\n",
    "singly_list.search(2)"
   ]
  },
  {
   "cell_type": "code",
   "execution_count": null,
   "metadata": {},
   "outputs": [],
   "source": []
  },
  {
   "cell_type": "code",
   "execution_count": null,
   "metadata": {},
   "outputs": [],
   "source": []
  },
  {
   "cell_type": "code",
   "execution_count": null,
   "metadata": {},
   "outputs": [],
   "source": []
  }
 ],
 "metadata": {
  "kernelspec": {
   "display_name": "Python 3",
   "language": "python",
   "name": "python3"
  },
  "language_info": {
   "codemirror_mode": {
    "name": "ipython",
    "version": 3
   },
   "file_extension": ".py",
   "mimetype": "text/x-python",
   "name": "python",
   "nbconvert_exporter": "python",
   "pygments_lexer": "ipython3",
   "version": "3.7.5"
  }
 },
 "nbformat": 4,
 "nbformat_minor": 4
}
