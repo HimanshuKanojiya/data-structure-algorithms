{
 "cells": [
  {
   "cell_type": "markdown",
   "metadata": {},
   "source": [
    "### Circular Linked List (via Singly Linked List)\n",
    "\n",
    "**Operations of Circular Linked List:**\n",
    "- Insertion in the Begining\n",
    "- Insertion in the Middle\n",
    "- Insertion in the End\n",
    "- Deletion in the Begining\n",
    "- Deletion in the Middle\n",
    "- Deletion in the End\n",
    "- Searching\n",
    "- Travsersing"
   ]
  },
  {
   "cell_type": "code",
   "execution_count": 1,
   "metadata": {},
   "outputs": [],
   "source": [
    "class circular_node:\n",
    "    def __init__(self, value):\n",
    "        self.value = value\n",
    "        self.next = None\n",
    "\n",
    "class circular_linked_list:\n",
    "    def __init__(self):\n",
    "        self.head = None\n",
    "        self.tail = None\n",
    "    \n",
    "    #Time Complexity: O(1) | Space Complexity: O(1)\n",
    "    def insertion_in_begin(self, value):\n",
    "        if self.head == None:\n",
    "            self.head = circular_node(value)\n",
    "            self.tail = self.head\n",
    "            self.tail.next = self.head\n",
    "        else:\n",
    "            temp = circular_node(value)\n",
    "            temp.next = self.head\n",
    "            self.head = temp\n",
    "            self.tail.next = self.head\n",
    "    \n",
    "    #Time Complexity: O(n) | Space Complexity: O(1)\n",
    "    def insertion_in_the_middle(self, key, value):\n",
    "        if self.head == None:\n",
    "            return self.insertion_in_begin(value)\n",
    "        else:\n",
    "            temp = self.head\n",
    "            tem_next = temp.next\n",
    "            counter = 1\n",
    "            while counter < key - 1:\n",
    "                temp = temp.next\n",
    "                tem_next = tem_next.next\n",
    "                counter+=1\n",
    "            temp_node = circular_node(value)\n",
    "            temp_node.next = tem_next\n",
    "            temp.next = temp_node\n",
    "            \n",
    "            \n",
    "    #Time Complexity: O(1) | Space Complexity: O(1)        \n",
    "    def insertion_in_the_end(self, value):\n",
    "        if self.head == None:\n",
    "            self.insertion_in_begin(value)\n",
    "        else:\n",
    "            temp = circular_node(value)\n",
    "            self.tail.next = temp\n",
    "            temp.next = self.head\n",
    "            self.tail = temp\n",
    "            \n",
    "    \n",
    "    #Time Complexity: O(n) | Space Complexity: O(1)\n",
    "    def traverse(self):\n",
    "        if self.head == None:\n",
    "            return\n",
    "        else:\n",
    "            temp = self.head\n",
    "            while temp:\n",
    "                print(temp.value)\n",
    "                temp = temp.next\n",
    "                if temp == self.head:\n",
    "                    break\n",
    "    \n",
    "    #Time Complexity: O(n) | Space Complexity: O(1)\n",
    "    def searching_in_circ(self, value):\n",
    "        if self.head == None:\n",
    "            return\n",
    "        else:\n",
    "            temp = self.head\n",
    "            while temp:\n",
    "                if temp.value == value:\n",
    "                    return 1\n",
    "                temp = temp.next\n",
    "                if temp == self.head:\n",
    "                    break\n",
    "            return -1\n",
    "   \n",
    "    #Time Complexity: O(1) | Space Complexity: O(1)\n",
    "    def deletion_in_first(self):\n",
    "        if self.head == None:\n",
    "            return\n",
    "        else:\n",
    "            self.head = self.head.next\n",
    "            self.tail.next = self.head\n",
    "            \n",
    "    #Time Complexity: O(n) | Space Complexity: O(1)      \n",
    "    def deletion_at_middle(self, key):\n",
    "        if self.head == None:\n",
    "            return\n",
    "        else:\n",
    "            if key == 1:\n",
    "                self.deletion_in_first()\n",
    "                return\n",
    "            else:\n",
    "                counter = 1\n",
    "                temp = self.head\n",
    "                while counter < key - 1:\n",
    "                    temp = temp.next\n",
    "                    counter+=1\n",
    "                temp.next = temp.next.next\n",
    "     \n",
    "    #Time Complexity: O(n) | Space Complexity: O(1)\n",
    "    def deletion_at_end(self):\n",
    "        if self.head == None:\n",
    "            return\n",
    "        else:\n",
    "            temp = self.head\n",
    "            temp_next = temp.next\n",
    "            while temp_next.next != self.head:\n",
    "                temp = temp.next\n",
    "                temp_next = temp_next.next\n",
    "            temp.next = temp_next.next"
   ]
  },
  {
   "cell_type": "code",
   "execution_count": 2,
   "metadata": {},
   "outputs": [],
   "source": [
    "singly_circ = circular_linked_list()"
   ]
  },
  {
   "cell_type": "code",
   "execution_count": 3,
   "metadata": {},
   "outputs": [
    {
     "name": "stdout",
     "output_type": "stream",
     "text": [
      "6\n",
      "5\n",
      "4\n",
      "3\n",
      "2\n",
      "1\n"
     ]
    }
   ],
   "source": [
    "#Insertion in begining:\n",
    "\n",
    "li = [1,2,3,4,5,6]\n",
    "\n",
    "for i in li:\n",
    "    singly_circ.insertion_in_begin(i)\n",
    "    \n",
    "singly_circ.traverse()"
   ]
  },
  {
   "cell_type": "code",
   "execution_count": 4,
   "metadata": {},
   "outputs": [
    {
     "name": "stdout",
     "output_type": "stream",
     "text": [
      "6\n",
      "5\n",
      "100\n",
      "4\n",
      "3\n",
      "2\n",
      "1\n"
     ]
    }
   ],
   "source": [
    "#Insertion in Middle\n",
    "\n",
    "#Counting starts from 1, don't put 0\n",
    "\n",
    "singly_circ.insertion_in_the_middle(3, 100)\n",
    "\n",
    "singly_circ.traverse()"
   ]
  },
  {
   "cell_type": "code",
   "execution_count": 5,
   "metadata": {},
   "outputs": [
    {
     "name": "stdout",
     "output_type": "stream",
     "text": [
      "6\n",
      "5\n",
      "100\n",
      "4\n",
      "3\n",
      "2\n",
      "1\n",
      "500\n"
     ]
    }
   ],
   "source": [
    "#Insertion in End\n",
    "\n",
    "singly_circ.insertion_in_the_end(500)\n",
    "\n",
    "singly_circ.traverse()"
   ]
  },
  {
   "cell_type": "code",
   "execution_count": 6,
   "metadata": {},
   "outputs": [
    {
     "name": "stdout",
     "output_type": "stream",
     "text": [
      "5\n",
      "100\n",
      "4\n",
      "3\n",
      "2\n",
      "1\n",
      "500\n"
     ]
    }
   ],
   "source": [
    "#Deletion in begining\n",
    "\n",
    "singly_circ.deletion_in_first()\n",
    "\n",
    "singly_circ.traverse()"
   ]
  },
  {
   "cell_type": "code",
   "execution_count": 7,
   "metadata": {},
   "outputs": [
    {
     "name": "stdout",
     "output_type": "stream",
     "text": [
      "5\n",
      "4\n",
      "3\n",
      "2\n",
      "1\n",
      "500\n"
     ]
    }
   ],
   "source": [
    "#Deletion in middle\n",
    "\n",
    "singly_circ.deletion_at_middle(2)\n",
    "\n",
    "singly_circ.traverse()"
   ]
  },
  {
   "cell_type": "code",
   "execution_count": 8,
   "metadata": {},
   "outputs": [
    {
     "name": "stdout",
     "output_type": "stream",
     "text": [
      "5\n",
      "4\n",
      "3\n",
      "2\n",
      "1\n"
     ]
    }
   ],
   "source": [
    "#Deletion in end\n",
    "\n",
    "singly_circ.deletion_at_end()\n",
    "\n",
    "singly_circ.traverse()"
   ]
  },
  {
   "cell_type": "code",
   "execution_count": 9,
   "metadata": {},
   "outputs": [
    {
     "data": {
      "text/plain": [
       "1"
      ]
     },
     "execution_count": 9,
     "metadata": {},
     "output_type": "execute_result"
    }
   ],
   "source": [
    "#Searching\n",
    "#if returns 1 means value is present, if return -1 then value is not present\n",
    "\n",
    "singly_circ.searching_in_circ(3)"
   ]
  },
  {
   "cell_type": "markdown",
   "metadata": {},
   "source": [
    "### Circular Linked List (via Doubly Linked List)\n",
    "\n",
    "**Operations of Circular Linked List:**\n",
    "- Insertion in the Begining\n",
    "- Insertion in the Middle\n",
    "- Insertion in the End\n",
    "- Deletion in the Begining\n",
    "- Deletion in the Middle\n",
    "- Deletion in the End\n",
    "- Searching\n",
    "- Travsersing"
   ]
  },
  {
   "cell_type": "code",
   "execution_count": 10,
   "metadata": {},
   "outputs": [],
   "source": [
    "class circ_dou_node:\n",
    "    def __init__(self, value):\n",
    "        self.value = value\n",
    "        self.next = None\n",
    "        self.prev = None\n",
    "\n",
    "class circular_doubly:\n",
    "    def __init__(self):\n",
    "        self.head = None\n",
    "        self.tail = None\n",
    "        self.list_lim = 0\n",
    "    \n",
    "    \n",
    "    #Time Complexity: O(1) | Space Complexity: O(1)\n",
    "    def insertion_in_begining(self, value):\n",
    "        if self.head == None:\n",
    "            self.head = circ_dou_node(value)\n",
    "            self.tail = self.head\n",
    "            self.tail.next = self.head\n",
    "            self.list_lim+=1\n",
    "            \n",
    "        else:\n",
    "            temp = circ_dou_node(value)\n",
    "            temp.next = self.head\n",
    "            self.head.prev = temp\n",
    "            self.head = temp\n",
    "            self.tail.next = temp\n",
    "            self.list_lim+=1\n",
    "            \n",
    "       \n",
    "    #Time Complexity: O(n) | Space Complexity: O(1)\n",
    "    def insertion_in_middle(self, key, value):\n",
    "        if self.head == None:\n",
    "            return\n",
    "        else:\n",
    "            if key == 1:\n",
    "                self.insertion_in_begining(value)\n",
    "                return\n",
    "            else:\n",
    "                counter = 1\n",
    "                temp = self.head\n",
    "                while counter < key:\n",
    "                    temp = temp.next\n",
    "                    counter+=1\n",
    "                \n",
    "                temp_node = circ_dou_node(value)\n",
    "                temp_node.prev = temp.prev\n",
    "                temp_node.next = temp\n",
    "                temp.prev.next = temp_node\n",
    "                temp.prev = temp_node\n",
    "                self.list_lim+=1\n",
    "    \n",
    "    \n",
    "    #Time Complexity: O(1) | Space Complexity: O(1)\n",
    "    def insertion_in_end(self, value):\n",
    "        if self.head == None:\n",
    "            return\n",
    "        else:\n",
    "            temp_node = circ_dou_node(value)\n",
    "            temp_node.next = self.tail.next\n",
    "            temp_node.prev = self.tail\n",
    "            self.tail.next = temp_node\n",
    "            self.tail = temp_node\n",
    "            self.list_lim+=1\n",
    "    \n",
    "    \n",
    "    #Time Complexity: O(1) | Space Complexity: O(1)\n",
    "    def deletion_in_first(self):\n",
    "        if self.head == None:\n",
    "            return\n",
    "        else:\n",
    "            self.head = self.head.next\n",
    "            self.tail.next = self.head\n",
    "            self.head.prev = None\n",
    "            self.list_lim-=1\n",
    "            \n",
    "    \n",
    "    #Time Complexity: O(n) | Space Complexity: O(1)\n",
    "    def deletion_in_middle(self, key):\n",
    "        if self.head == None:\n",
    "            return\n",
    "        else:\n",
    "            if key == 1:\n",
    "                self.deletion_in_first()\n",
    "                return\n",
    "            else:\n",
    "                counter = 1\n",
    "                temp = self.head\n",
    "                while counter < key:\n",
    "                    temp = temp.next\n",
    "                    if temp == self.head:\n",
    "                        return -1\n",
    "                    counter+=1\n",
    "                \n",
    "                temp.prev.next = temp.next\n",
    "                temp.next.prev = temp.prev\n",
    "                self.list_lim-=1\n",
    "    \n",
    "    \n",
    "    #Time Complexity: O(1) | Space Complexity: O(1)\n",
    "    def deletion_in_end(self):\n",
    "        if self.head == None:\n",
    "            return\n",
    "        else:\n",
    "            self.tail = self.tail.prev\n",
    "            self.tail.next = self.head\n",
    "            self.list_lim-=1\n",
    "                \n",
    "    \n",
    "    \n",
    "    #Time Complexity: O(n) | Space Complexity: O(1)\n",
    "    def traverse(self):\n",
    "        if self.head == None:\n",
    "            return\n",
    "        else:\n",
    "            temp = self.head\n",
    "            while temp:\n",
    "                print(temp.value)\n",
    "                temp = temp.next\n",
    "                if temp == self.head:\n",
    "                    break\n",
    "    \n",
    "    #Time Complexity: O(n) | Space Complexity: O(1)\n",
    "    def reverse_traverse(self):\n",
    "        if self.tail == None:\n",
    "            return\n",
    "        else:\n",
    "            temp = self.tail\n",
    "            while temp:\n",
    "                print(temp.value)\n",
    "                temp = temp.prev\n",
    "    \n",
    "    #Time Complexity: O(n) | Space Complexity: O(1) but optimized with two pointer technique\n",
    "    def search(self, value):\n",
    "        if self.head == None:\n",
    "            return -1\n",
    "        else:\n",
    "            temp = self.head\n",
    "            temp_tail = self.tail\n",
    "            st = 0\n",
    "            end = self.list_lim\n",
    "            while st <= end:\n",
    "                if temp.value == value or temp_tail.value == value:\n",
    "                    return 1\n",
    "                \n",
    "                temp = temp.next\n",
    "                temp_tail = temp_tail.prev\n",
    "                st+=1\n",
    "                end-=1\n",
    "                \n",
    "                \n",
    "            return -1"
   ]
  },
  {
   "cell_type": "code",
   "execution_count": 11,
   "metadata": {},
   "outputs": [],
   "source": [
    "circular_doub = circular_doubly()"
   ]
  },
  {
   "cell_type": "code",
   "execution_count": 12,
   "metadata": {},
   "outputs": [
    {
     "name": "stdout",
     "output_type": "stream",
     "text": [
      "4\n",
      "3\n",
      "2\n",
      "1\n"
     ]
    }
   ],
   "source": [
    "#Insertion in begining\n",
    "\n",
    "li = [1,2,3,4]\n",
    "\n",
    "for i in li:\n",
    "    circular_doub.insertion_in_begining(i)\n",
    "    \n",
    "circular_doub.traverse()"
   ]
  },
  {
   "cell_type": "code",
   "execution_count": 13,
   "metadata": {},
   "outputs": [
    {
     "name": "stdout",
     "output_type": "stream",
     "text": [
      "4\n",
      "200\n",
      "3\n",
      "2\n",
      "1\n"
     ]
    }
   ],
   "source": [
    "#Insertion in middle\n",
    "#Counting starts from 1, don't put 0\n",
    "\n",
    "circular_doub.insertion_in_middle(2,200)\n",
    "\n",
    "circular_doub.traverse()"
   ]
  },
  {
   "cell_type": "code",
   "execution_count": 14,
   "metadata": {},
   "outputs": [
    {
     "name": "stdout",
     "output_type": "stream",
     "text": [
      "4\n",
      "200\n",
      "3\n",
      "2\n",
      "1\n",
      "100\n"
     ]
    }
   ],
   "source": [
    "#Insertion in end\n",
    "\n",
    "circular_doub.insertion_in_end(100)\n",
    "\n",
    "circular_doub.traverse()"
   ]
  },
  {
   "cell_type": "code",
   "execution_count": 15,
   "metadata": {},
   "outputs": [
    {
     "name": "stdout",
     "output_type": "stream",
     "text": [
      "200\n",
      "3\n",
      "2\n",
      "1\n",
      "100\n"
     ]
    }
   ],
   "source": [
    "#Deletion in begining\n",
    "\n",
    "circular_doub.deletion_in_first()\n",
    "\n",
    "circular_doub.traverse()"
   ]
  },
  {
   "cell_type": "code",
   "execution_count": 16,
   "metadata": {},
   "outputs": [
    {
     "name": "stdout",
     "output_type": "stream",
     "text": [
      "200\n",
      "3\n",
      "1\n",
      "100\n"
     ]
    }
   ],
   "source": [
    "#Deletion in middle\n",
    "#Counting starts from 1, don't put 0\n",
    "\n",
    "circular_doub.deletion_in_middle(3)\n",
    "\n",
    "circular_doub.traverse()"
   ]
  },
  {
   "cell_type": "code",
   "execution_count": 17,
   "metadata": {},
   "outputs": [
    {
     "name": "stdout",
     "output_type": "stream",
     "text": [
      "200\n",
      "3\n",
      "1\n"
     ]
    }
   ],
   "source": [
    "#Deletion in end\n",
    "\n",
    "circular_doub.deletion_in_end()\n",
    "\n",
    "circular_doub.traverse()"
   ]
  },
  {
   "cell_type": "code",
   "execution_count": 18,
   "metadata": {},
   "outputs": [
    {
     "data": {
      "text/plain": [
       "1"
      ]
     },
     "execution_count": 18,
     "metadata": {},
     "output_type": "execute_result"
    }
   ],
   "source": [
    "#Searching\n",
    "#return 1 if present, return -1 if not\n",
    "\n",
    "circular_doub.search(3)"
   ]
  },
  {
   "cell_type": "code",
   "execution_count": 19,
   "metadata": {},
   "outputs": [
    {
     "name": "stdout",
     "output_type": "stream",
     "text": [
      "1\n",
      "3\n",
      "200\n"
     ]
    }
   ],
   "source": [
    "#Reverse Traverse\n",
    "\n",
    "circular_doub.reverse_traverse()"
   ]
  },
  {
   "cell_type": "code",
   "execution_count": null,
   "metadata": {},
   "outputs": [],
   "source": []
  }
 ],
 "metadata": {
  "kernelspec": {
   "display_name": "Python 3",
   "language": "python",
   "name": "python3"
  },
  "language_info": {
   "codemirror_mode": {
    "name": "ipython",
    "version": 3
   },
   "file_extension": ".py",
   "mimetype": "text/x-python",
   "name": "python",
   "nbconvert_exporter": "python",
   "pygments_lexer": "ipython3",
   "version": "3.7.5"
  }
 },
 "nbformat": 4,
 "nbformat_minor": 4
}
