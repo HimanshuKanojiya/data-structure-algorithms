{
 "cells": [
  {
   "cell_type": "markdown",
   "metadata": {},
   "source": [
    "### Double Ended Queue\n",
    "\n",
    "**Double Ended Queue Operations/functions:**\n",
    "- Push_Back\n",
    "- Push_Front\n",
    "- Pop_Back\n",
    "- Pop_Front\n",
    "- Get_Back\n",
    "- Get_Front\n",
    "- isEmpty"
   ]
  },
  {
   "cell_type": "code",
   "execution_count": 1,
   "metadata": {},
   "outputs": [],
   "source": [
    "#Implementation using doubly linked list\n",
    "\n",
    "class double_ended_node:\n",
    "    def __init__(self, value):\n",
    "        self.value = value\n",
    "        self.next = None\n",
    "        self.prev = None\n",
    "         \n",
    "class double_queue:\n",
    "    def __init__(self):\n",
    "        self.front = None\n",
    "        self.back = None\n",
    "    \n",
    "    #Time Complexity: O(1) | Space Complexity: O(1)\n",
    "    def Push_Front(self, value):\n",
    "        if self.front == None:\n",
    "            self.front = double_ended_node(value)\n",
    "            self.front.next = self.back\n",
    "            self.back = self.front\n",
    "            self.back.prev = self.front\n",
    "            \n",
    "        else:\n",
    "            temp = double_ended_node(value)\n",
    "            temp.next = self.front\n",
    "            self.front.prev = temp\n",
    "            self.front = temp\n",
    "    \n",
    "    #Time Complexity: O(1) | Space Complexity: O(1)\n",
    "    def Push_Back(self, value):\n",
    "        if self.front == None:\n",
    "            self.front = double_ended_node(value)\n",
    "            self.front.next = self.back\n",
    "            self.back = self.front\n",
    "            self.back.prev = self.front\n",
    "            \n",
    "        else:\n",
    "            temp = double_ended_node(value)\n",
    "            self.back.next = temp\n",
    "            temp.prev = self.back\n",
    "            self.back = temp\n",
    "            \n",
    "    \n",
    "    #Time Complexity: O(1) | Space Complexity: O(1)\n",
    "    def Pop_Front(self):\n",
    "        if self.front == None:\n",
    "            return\n",
    "        else:\n",
    "            value = self.front.value\n",
    "            self.front = self.front.next\n",
    "            return value\n",
    "    \n",
    "    \n",
    "    #Time Complexity: O(1) | Space Complexity: O(1)\n",
    "    def Pop_Back(self):\n",
    "        if self.front == None:\n",
    "            return\n",
    "        else:\n",
    "            value = self.back.value\n",
    "            if self.front == self.back:\n",
    "                self.Pop_Front()\n",
    "                return value\n",
    "            \n",
    "            self.back = self.back.prev\n",
    "            self.back.next = None\n",
    "            return value\n",
    "        \n",
    "    #Time Complexity: O(1) | Space Complexity: O(1)\n",
    "    def Get_Back(self):\n",
    "        if self.front == None:\n",
    "            return\n",
    "        else:\n",
    "            return self.back.value\n",
    "    \n",
    "    #Time Complexity: O(1) | Space Complexity: O(1)\n",
    "    def Get_Front(self):\n",
    "        if self.front == None:\n",
    "            return\n",
    "        else:\n",
    "            return self.front.value\n",
    "            \n",
    "                \n",
    "    def isEmpty(self):\n",
    "        if self.front == None or self.back == None:\n",
    "            return True\n",
    "        else:\n",
    "            return False"
   ]
  },
  {
   "cell_type": "code",
   "execution_count": 2,
   "metadata": {},
   "outputs": [],
   "source": [
    "#Double Ended Queue Creation\n",
    "\n",
    "double_queue = double_queue()"
   ]
  },
  {
   "cell_type": "code",
   "execution_count": 3,
   "metadata": {},
   "outputs": [],
   "source": [
    "#Insertion in first position of queue\n",
    "\n",
    "double_queue.Push_Front(10)\n",
    "double_queue.Push_Front(12)\n",
    "double_queue.Push_Front(14)\n",
    "double_queue.Push_Front(16)"
   ]
  },
  {
   "cell_type": "code",
   "execution_count": 4,
   "metadata": {},
   "outputs": [],
   "source": [
    "#Insertion in last position of queue\n",
    "\n",
    "double_queue.Push_Back(18)\n",
    "double_queue.Push_Back(20)\n",
    "double_queue.Push_Back(22)\n",
    "double_queue.Push_Back(24)"
   ]
  },
  {
   "cell_type": "code",
   "execution_count": 5,
   "metadata": {},
   "outputs": [
    {
     "data": {
      "text/plain": [
       "16"
      ]
     },
     "execution_count": 5,
     "metadata": {},
     "output_type": "execute_result"
    }
   ],
   "source": [
    "#Element at first position, not remove\n",
    "\n",
    "double_queue.Get_Front()"
   ]
  },
  {
   "cell_type": "code",
   "execution_count": 6,
   "metadata": {},
   "outputs": [
    {
     "data": {
      "text/plain": [
       "24"
      ]
     },
     "execution_count": 6,
     "metadata": {},
     "output_type": "execute_result"
    }
   ],
   "source": [
    "#Element at last position, not remove\n",
    "\n",
    "double_queue.Get_Back()"
   ]
  },
  {
   "cell_type": "code",
   "execution_count": 7,
   "metadata": {},
   "outputs": [
    {
     "data": {
      "text/plain": [
       "16"
      ]
     },
     "execution_count": 7,
     "metadata": {},
     "output_type": "execute_result"
    }
   ],
   "source": [
    "#Remove first element from queue\n",
    "\n",
    "double_queue.Pop_Front()"
   ]
  },
  {
   "cell_type": "code",
   "execution_count": 8,
   "metadata": {},
   "outputs": [
    {
     "data": {
      "text/plain": [
       "24"
      ]
     },
     "execution_count": 8,
     "metadata": {},
     "output_type": "execute_result"
    }
   ],
   "source": [
    "#Remove last element from queue\n",
    "\n",
    "double_queue.Pop_Back()"
   ]
  },
  {
   "cell_type": "code",
   "execution_count": 9,
   "metadata": {},
   "outputs": [],
   "source": [
    "#Implementation using dynamic array\n",
    "\n",
    "class double_queue_array:\n",
    "    def __init__(self):\n",
    "        self.queue = []\n",
    "        \n",
    "    #Time Complexity: O(n) | Space Complexity: O(n)    \n",
    "    def Push_Front(self, value):\n",
    "        if self.isEmpty():\n",
    "            self.queue.append(value)\n",
    "        else:\n",
    "            self.queue.insert(0, value)\n",
    "              \n",
    "    #Time Complexity: O(1) | Space Complexity: O(1)    \n",
    "    def isEmpty(self):\n",
    "        return True if(len(self.queue) == 0) else False\n",
    "    \n",
    "    #Time Complexity: O(1) | Space Complexity: O(n)    \n",
    "    def Push_back(self, value):\n",
    "        self.queue.append(value)\n",
    "    \n",
    "    #Time Complexity: O(1) | Space Complexity: O(1)    \n",
    "    def GetFront(self):\n",
    "        if self.isEmpty():\n",
    "            return\n",
    "        else:\n",
    "            return self.queue[0]\n",
    "    \n",
    "    #Time Complexity: O(1) | Space Complexity: O(1)    \n",
    "    def GetBack(self):\n",
    "        if self.isEmpty():\n",
    "            return\n",
    "        else:\n",
    "            return self.queue[-1]\n",
    "    \n",
    "    #Time Complexity: O(n) | Space Complexity: O(n)    \n",
    "    def PopFront(self):\n",
    "        if self.isEmpty():\n",
    "            return\n",
    "        else:\n",
    "            value = self.GetFront()\n",
    "            self.queue.pop(0)\n",
    "            return value\n",
    "    \n",
    "    #Time Complexity: O(1) | Space Complexity: O(n)    \n",
    "    def PopBack(self):\n",
    "        if self.isEmpty():\n",
    "            return\n",
    "        else:\n",
    "            value = self.GetBack()\n",
    "            self.queue.pop()\n",
    "            return value\n",
    "        "
   ]
  },
  {
   "cell_type": "code",
   "execution_count": 10,
   "metadata": {},
   "outputs": [],
   "source": [
    "#Double Ended Queue Creation\n",
    "\n",
    "db_end_queue_arr = double_queue_array()"
   ]
  },
  {
   "cell_type": "code",
   "execution_count": 11,
   "metadata": {},
   "outputs": [],
   "source": [
    "#Insertion in the begining of Queue\n",
    "\n",
    "db_end_queue_arr.Push_Front(10)\n",
    "db_end_queue_arr.Push_Front(20)\n",
    "db_end_queue_arr.Push_Front(30)"
   ]
  },
  {
   "cell_type": "code",
   "execution_count": 12,
   "metadata": {},
   "outputs": [],
   "source": [
    "#Insertion in the end of Queue\n",
    "\n",
    "db_end_queue_arr.Push_back(40)\n",
    "db_end_queue_arr.Push_back(50)\n",
    "db_end_queue_arr.Push_back(60)"
   ]
  },
  {
   "cell_type": "code",
   "execution_count": 13,
   "metadata": {},
   "outputs": [
    {
     "data": {
      "text/plain": [
       "[30, 20, 10, 40, 50, 60]"
      ]
     },
     "execution_count": 13,
     "metadata": {},
     "output_type": "execute_result"
    }
   ],
   "source": [
    "#Queue Elements\n",
    "\n",
    "db_end_queue_arr.queue"
   ]
  },
  {
   "cell_type": "code",
   "execution_count": 14,
   "metadata": {},
   "outputs": [
    {
     "data": {
      "text/plain": [
       "30"
      ]
     },
     "execution_count": 14,
     "metadata": {},
     "output_type": "execute_result"
    }
   ],
   "source": [
    "#Removing first element from queue\n",
    "\n",
    "db_end_queue_arr.PopFront()"
   ]
  },
  {
   "cell_type": "code",
   "execution_count": 15,
   "metadata": {},
   "outputs": [
    {
     "data": {
      "text/plain": [
       "60"
      ]
     },
     "execution_count": 15,
     "metadata": {},
     "output_type": "execute_result"
    }
   ],
   "source": [
    "#Removing last element from queue\n",
    "\n",
    "db_end_queue_arr.PopBack()"
   ]
  },
  {
   "cell_type": "code",
   "execution_count": 16,
   "metadata": {},
   "outputs": [
    {
     "data": {
      "text/plain": [
       "20"
      ]
     },
     "execution_count": 16,
     "metadata": {},
     "output_type": "execute_result"
    }
   ],
   "source": [
    "#First element of Queue\n",
    "\n",
    "db_end_queue_arr.GetFront()"
   ]
  },
  {
   "cell_type": "code",
   "execution_count": 17,
   "metadata": {},
   "outputs": [
    {
     "data": {
      "text/plain": [
       "50"
      ]
     },
     "execution_count": 17,
     "metadata": {},
     "output_type": "execute_result"
    }
   ],
   "source": [
    "#Last element of Queue\n",
    "\n",
    "db_end_queue_arr.GetBack()"
   ]
  },
  {
   "cell_type": "code",
   "execution_count": null,
   "metadata": {},
   "outputs": [],
   "source": []
  }
 ],
 "metadata": {
  "kernelspec": {
   "display_name": "Python 3",
   "language": "python",
   "name": "python3"
  },
  "language_info": {
   "codemirror_mode": {
    "name": "ipython",
    "version": 3
   },
   "file_extension": ".py",
   "mimetype": "text/x-python",
   "name": "python",
   "nbconvert_exporter": "python",
   "pygments_lexer": "ipython3",
   "version": "3.7.5"
  }
 },
 "nbformat": 4,
 "nbformat_minor": 4
}
